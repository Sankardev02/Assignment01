{
  "nbformat": 4,
  "nbformat_minor": 0,
  "metadata": {
    "colab": {
      "provenance": []
    },
    "kernelspec": {
      "name": "python3",
      "display_name": "Python 3"
    },
    "language_info": {
      "name": "python"
    }
  },
  "cells": [
    {
      "cell_type": "markdown",
      "source": [
        "#Import Libraries"
      ],
      "metadata": {
        "id": "gf5EZgK9xMR9"
      }
    },
    {
      "cell_type": "code",
      "source": [
        "import numpy as np\n",
        "import pandas as pd\n",
        "import matplotlib.pyplot as plt\n",
        "import seaborn as sns\n",
        "from sklearn.model_selection import train_test_split\n",
        "from sklearn.preprocessing import LabelEncoder\n",
        "from tensorflow.keras.preprocessing.text import Tokenizer\n",
        "from tensorflow.keras.preprocessing.sequence import pad_sequences\n",
        "from tensorflow.keras.models import Sequential\n",
        "from tensorflow.keras.layers import Embedding, SimpleRNN, LSTM, Dense\n"
      ],
      "metadata": {
        "id": "h0v2wmuFxLrQ"
      },
      "execution_count": 19,
      "outputs": []
    },
    {
      "cell_type": "markdown",
      "source": [
        "#Load The Dataset"
      ],
      "metadata": {
        "id": "YNGkt24MxzLZ"
      }
    },
    {
      "cell_type": "markdown",
      "source": [
        "* when the parser encounters a byte sequence (in this case, byte 0x89 at\n",
        "position 5604) that cannot be decoded using the UTF-8 encoding scheme. This means the file is likely encoded using a different encoding, such as 'latin-1' or 'ISO-8859-1'."
      ],
      "metadata": {
        "id": "g373lvvTx2C7"
      }
    },
    {
      "cell_type": "code",
      "source": [
        "data = pd.read_csv('/content/judge-1377884607_tweet_product_company.csv',encoding='latin-1' )"
      ],
      "metadata": {
        "id": "AccXIeHlw6m8"
      },
      "execution_count": 20,
      "outputs": []
    },
    {
      "cell_type": "markdown",
      "source": [
        "\n",
        "\n",
        "* or try 'ISO-8859-1', 'cp1252' if 'latin-1' doesn't work\n",
        "\n",
        "\n"
      ],
      "metadata": {
        "id": "DQy0C3JjyaWk"
      }
    },
    {
      "cell_type": "markdown",
      "source": [
        "#Data Preprocessing"
      ],
      "metadata": {
        "id": "zBU8XWEbyrhv"
      }
    },
    {
      "cell_type": "code",
      "source": [
        "#Drop unnecessary columns\n",
        "data = data.drop(columns=['emotion_in_tweet_is_directed_at'], errors='ignore')"
      ],
      "metadata": {
        "id": "JjU3VmMgyZGq"
      },
      "execution_count": 22,
      "outputs": []
    },
    {
      "cell_type": "code",
      "source": [
        "# missing value handling\n",
        "data.dropna(inplace=True)"
      ],
      "metadata": {
        "id": "H2hVnzjDzYLi"
      },
      "execution_count": 23,
      "outputs": []
    },
    {
      "cell_type": "code",
      "source": [
        "#Train Test Split\n",
        "train_data, test_data = train_test_split(data, test_size=0.2, random_state=42)\n",
        "X_train, X_val, y_train, y_val = train_test_split(X, y, test_size=0.2, random_state=42)\n",
        "example=next(iter(train_data.values))\n",
        "print('Text:\\n',example[0])\n",
        "print('\\nlabel:',example[1])"
      ],
      "metadata": {
        "colab": {
          "base_uri": "https://localhost:8080/"
        },
        "id": "WEQTidgXzcx7",
        "outputId": "3b384c2c-4dc8-42ba-ce60-e32526904c43"
      },
      "execution_count": 24,
      "outputs": [
        {
          "output_type": "stream",
          "name": "stdout",
          "text": [
            "Text:\n",
            " In my next life I'm coming back as an iPad 2. Women can't keep their hands off this thing. #SXSW\n",
            "\n",
            "label: Positive emotion\n"
          ]
        }
      ]
    },
    {
      "cell_type": "code",
      "source": [
        "#Tokenization\n",
        "tokenizer = Tokenizer(num_words=10000)\n",
        "tokenizer.fit_on_texts(data['tweet_text'])\n",
        "sequences = tokenizer.texts_to_sequences(data['tweet_text'])"
      ],
      "metadata": {
        "id": "E05Hu757zpFu"
      },
      "execution_count": 25,
      "outputs": []
    },
    {
      "cell_type": "code",
      "source": [
        "#Pad sequences\n",
        "max_length = 100\n",
        "X = pad_sequences(sequences, maxlen=max_length)\n",
        "y = data['is_there_an_emotion_directed_at_a_brand_or_product']"
      ],
      "metadata": {
        "id": "vee4KguYzvE1"
      },
      "execution_count": 26,
      "outputs": []
    },
    {
      "cell_type": "code",
      "source": [
        "#Encoding to numerical values\n",
        "label_encoder = LabelEncoder()\n",
        "y = label_encoder.fit_transform(y)"
      ],
      "metadata": {
        "id": "twwIyMMBz0fZ"
      },
      "execution_count": 27,
      "outputs": []
    },
    {
      "cell_type": "code",
      "source": [
        "#Train Test Split(after encoding)\n",
        "X_train, X_val, y_train, y_val = train_test_split(X, y, test_size=0.2, random_state=42)"
      ],
      "metadata": {
        "id": "rGUS_nLn0EWm"
      },
      "execution_count": 28,
      "outputs": []
    },
    {
      "cell_type": "markdown",
      "source": [
        "#Building The Model"
      ],
      "metadata": {
        "id": "U63Vuyy40WnO"
      }
    },
    {
      "cell_type": "code",
      "source": [
        "model = Sequential([\n",
        "    Embedding(input_dim=10000, output_dim=128, input_length=max_length),\n",
        "    LSTM(128, return_sequences=False),\n",
        "    Dense(4, activation='softmax')\n",
        "])\n",
        "model.compile(optimizer='adam', loss='sparse_categorical_crossentropy', metrics=['accuracy'])"
      ],
      "metadata": {
        "colab": {
          "base_uri": "https://localhost:8080/"
        },
        "id": "Th-wGFt70QE_",
        "outputId": "00b468a1-26e8-4ff4-b6c6-0eaa2e983a41"
      },
      "execution_count": 29,
      "outputs": [
        {
          "output_type": "stream",
          "name": "stderr",
          "text": [
            "/usr/local/lib/python3.11/dist-packages/keras/src/layers/core/embedding.py:90: UserWarning: Argument `input_length` is deprecated. Just remove it.\n",
            "  warnings.warn(\n"
          ]
        }
      ]
    },
    {
      "cell_type": "code",
      "source": [
        "#Train Test Split(for evaluation of model)\n",
        "X_train, X_test, y_train, y_test = train_test_split(X, y, test_size=0.2, random_state=42)"
      ],
      "metadata": {
        "id": "uFDxV3zR2BXa"
      },
      "execution_count": 34,
      "outputs": []
    },
    {
      "cell_type": "markdown",
      "source": [
        "#Train The Model"
      ],
      "metadata": {
        "id": "xloxzG-D0qB-"
      }
    },
    {
      "cell_type": "code",
      "source": [
        "history = model.fit(X_train, y_train, epochs=5, batch_size=32, validation_split=0.2)"
      ],
      "metadata": {
        "colab": {
          "base_uri": "https://localhost:8080/"
        },
        "id": "UuFBbYf00mmQ",
        "outputId": "7dd2d583-fb3f-472d-a43c-48369fd45dde"
      },
      "execution_count": 30,
      "outputs": [
        {
          "output_type": "stream",
          "name": "stdout",
          "text": [
            "Epoch 1/5\n",
            "\u001b[1m182/182\u001b[0m \u001b[32m━━━━━━━━━━━━━━━━━━━━\u001b[0m\u001b[37m\u001b[0m \u001b[1m45s\u001b[0m 234ms/step - accuracy: 0.5759 - loss: 0.9819 - val_accuracy: 0.6151 - val_loss: 0.8894\n",
            "Epoch 2/5\n",
            "\u001b[1m182/182\u001b[0m \u001b[32m━━━━━━━━━━━━━━━━━━━━\u001b[0m\u001b[37m\u001b[0m \u001b[1m44s\u001b[0m 239ms/step - accuracy: 0.6789 - loss: 0.7782 - val_accuracy: 0.6564 - val_loss: 0.8338\n",
            "Epoch 3/5\n",
            "\u001b[1m182/182\u001b[0m \u001b[32m━━━━━━━━━━━━━━━━━━━━\u001b[0m\u001b[37m\u001b[0m \u001b[1m78s\u001b[0m 218ms/step - accuracy: 0.8035 - loss: 0.5427 - val_accuracy: 0.6667 - val_loss: 0.8822\n",
            "Epoch 4/5\n",
            "\u001b[1m182/182\u001b[0m \u001b[32m━━━━━━━━━━━━━━━━━━━━\u001b[0m\u001b[37m\u001b[0m \u001b[1m38s\u001b[0m 208ms/step - accuracy: 0.8607 - loss: 0.3708 - val_accuracy: 0.6550 - val_loss: 1.0007\n",
            "Epoch 5/5\n",
            "\u001b[1m182/182\u001b[0m \u001b[32m━━━━━━━━━━━━━━━━━━━━\u001b[0m\u001b[37m\u001b[0m \u001b[1m39s\u001b[0m 215ms/step - accuracy: 0.8921 - loss: 0.2980 - val_accuracy: 0.6550 - val_loss: 1.0714\n"
          ]
        }
      ]
    },
    {
      "cell_type": "markdown",
      "source": [
        "#Evaluate The Model"
      ],
      "metadata": {
        "id": "p9vmc4642ccR"
      }
    },
    {
      "cell_type": "code",
      "source": [
        "loss, accuracy = model.evaluate(X_test, y_test)\n",
        "print(f\"Test Accuracy: {accuracy:.2f}\")"
      ],
      "metadata": {
        "colab": {
          "base_uri": "https://localhost:8080/"
        },
        "id": "HKhFM0Q50tFn",
        "outputId": "d61f8a93-34df-408f-a2b2-8b3e2bee8c66"
      },
      "execution_count": 33,
      "outputs": [
        {
          "output_type": "stream",
          "name": "stdout",
          "text": [
            "\u001b[1m57/57\u001b[0m \u001b[32m━━━━━━━━━━━━━━━━━━━━\u001b[0m\u001b[37m\u001b[0m \u001b[1m3s\u001b[0m 55ms/step - accuracy: 0.6543 - loss: 1.0733\n",
            "Test Accuracy: 0.65\n"
          ]
        }
      ]
    }
  ]
}